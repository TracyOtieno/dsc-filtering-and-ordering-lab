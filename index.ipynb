{
 "cells": [
  {
   "cell_type": "markdown",
   "metadata": {},
   "source": [
    "# Filtering, Ordering, and Limiting Data with SQL - Lab\n"
   ]
  },
  {
   "cell_type": "markdown",
   "metadata": {},
   "source": [
    "## Introduction\n",
    "In this lab, you will practice writing SQL `SELECT` queries that limit results based on conditions, using `WHERE`, `ORDER BY`, and `LIMIT`."
   ]
  },
  {
   "cell_type": "markdown",
   "metadata": {},
   "source": [
    "## Objectives\n",
    "You will practice the following:\n",
    "\n",
    "* Order the results of your queries by using `ORDER BY` (`ASC` & `DESC`)\n",
    "* Limit the number of records returned by a query using `LIMIT`\n",
    "* Write SQL queries to filter and order results"
   ]
  },
  {
   "cell_type": "markdown",
   "metadata": {},
   "source": [
    "## The Data"
   ]
  },
  {
   "cell_type": "markdown",
   "metadata": {},
   "source": [
    "Here's a database full of famous dogs!  The `dogs` table is populated with the following data:\n",
    "\n",
    "|name      |age    |gender |breed           |temperament|hungry |\n",
    "|----------|-------|-------|----------------|-----------|-------|\n",
    "|Snoopy    |3      |M      |beagle          |friendly   |1      |\n",
    "|McGruff   |10     |M      |bloodhound      |aware      |0      |\n",
    "|Scooby    |6      |M      |great dane      |hungry     |1      |\n",
    "|Little Ann|5      |F      |coonhound       |loyal      |0      |\n",
    "|Pickles   |13     |F      |black lab       |mischievous|1      |\n",
    "|Clifford  |4      |M      |big red         |smiley     |1      |\n",
    "|Lassie    |7      |F      |collie          |loving     |1      |\n",
    "|Snowy     |8      |F      |fox terrier     |adventurous|0      |\n",
    "|NULL      |4      |M      |golden retriever|playful    |1      |"
   ]
  },
  {
   "cell_type": "markdown",
   "metadata": {},
   "source": [
    "## Connecting to the Database\n",
    "\n",
    "In the cell below, import `pandas` and `sqlite3`. Then establish a connection to the database `dogs.db`.\n",
    "\n",
    "Look at all of the data in the table by selecting all columns from the `dogs` table with `pd.read_sql`."
   ]
  },
  {
   "cell_type": "code",
   "execution_count": 1,
   "metadata": {},
   "outputs": [
    {
     "data": {
      "text/html": [
       "<div>\n",
       "<style scoped>\n",
       "    .dataframe tbody tr th:only-of-type {\n",
       "        vertical-align: middle;\n",
       "    }\n",
       "\n",
       "    .dataframe tbody tr th {\n",
       "        vertical-align: top;\n",
       "    }\n",
       "\n",
       "    .dataframe thead th {\n",
       "        text-align: right;\n",
       "    }\n",
       "</style>\n",
       "<table border=\"1\" class=\"dataframe\">\n",
       "  <thead>\n",
       "    <tr style=\"text-align: right;\">\n",
       "      <th></th>\n",
       "      <th>id</th>\n",
       "      <th>name</th>\n",
       "      <th>age</th>\n",
       "      <th>gender</th>\n",
       "      <th>breed</th>\n",
       "      <th>temperament</th>\n",
       "      <th>hungry</th>\n",
       "    </tr>\n",
       "  </thead>\n",
       "  <tbody>\n",
       "    <tr>\n",
       "      <th>0</th>\n",
       "      <td>1</td>\n",
       "      <td>Snoopy</td>\n",
       "      <td>3</td>\n",
       "      <td>M</td>\n",
       "      <td>beagle</td>\n",
       "      <td>friendly</td>\n",
       "      <td>1</td>\n",
       "    </tr>\n",
       "    <tr>\n",
       "      <th>1</th>\n",
       "      <td>2</td>\n",
       "      <td>McGruff</td>\n",
       "      <td>10</td>\n",
       "      <td>M</td>\n",
       "      <td>bloodhound</td>\n",
       "      <td>aware</td>\n",
       "      <td>0</td>\n",
       "    </tr>\n",
       "    <tr>\n",
       "      <th>2</th>\n",
       "      <td>3</td>\n",
       "      <td>Scooby</td>\n",
       "      <td>6</td>\n",
       "      <td>M</td>\n",
       "      <td>great dane</td>\n",
       "      <td>hungry</td>\n",
       "      <td>1</td>\n",
       "    </tr>\n",
       "    <tr>\n",
       "      <th>3</th>\n",
       "      <td>4</td>\n",
       "      <td>Little Ann</td>\n",
       "      <td>5</td>\n",
       "      <td>F</td>\n",
       "      <td>coonhound</td>\n",
       "      <td>loyal</td>\n",
       "      <td>0</td>\n",
       "    </tr>\n",
       "    <tr>\n",
       "      <th>4</th>\n",
       "      <td>5</td>\n",
       "      <td>Pickles</td>\n",
       "      <td>13</td>\n",
       "      <td>F</td>\n",
       "      <td>black lab</td>\n",
       "      <td>mischievous</td>\n",
       "      <td>1</td>\n",
       "    </tr>\n",
       "    <tr>\n",
       "      <th>5</th>\n",
       "      <td>6</td>\n",
       "      <td>Clifford</td>\n",
       "      <td>4</td>\n",
       "      <td>M</td>\n",
       "      <td>big red</td>\n",
       "      <td>smiley</td>\n",
       "      <td>1</td>\n",
       "    </tr>\n",
       "    <tr>\n",
       "      <th>6</th>\n",
       "      <td>7</td>\n",
       "      <td>Lassie</td>\n",
       "      <td>7</td>\n",
       "      <td>F</td>\n",
       "      <td>collie</td>\n",
       "      <td>loving</td>\n",
       "      <td>1</td>\n",
       "    </tr>\n",
       "    <tr>\n",
       "      <th>7</th>\n",
       "      <td>8</td>\n",
       "      <td>Snowy</td>\n",
       "      <td>8</td>\n",
       "      <td>F</td>\n",
       "      <td>fox terrier</td>\n",
       "      <td>adventurous</td>\n",
       "      <td>0</td>\n",
       "    </tr>\n",
       "    <tr>\n",
       "      <th>8</th>\n",
       "      <td>9</td>\n",
       "      <td>None</td>\n",
       "      <td>4</td>\n",
       "      <td>M</td>\n",
       "      <td>golden retriever</td>\n",
       "      <td>playful</td>\n",
       "      <td>1</td>\n",
       "    </tr>\n",
       "  </tbody>\n",
       "</table>\n",
       "</div>"
      ],
      "text/plain": [
       "   id        name  age gender             breed  temperament  hungry\n",
       "0   1      Snoopy    3      M            beagle     friendly       1\n",
       "1   2     McGruff   10      M        bloodhound        aware       0\n",
       "2   3      Scooby    6      M        great dane       hungry       1\n",
       "3   4  Little Ann    5      F         coonhound        loyal       0\n",
       "4   5     Pickles   13      F         black lab  mischievous       1\n",
       "5   6    Clifford    4      M           big red       smiley       1\n",
       "6   7      Lassie    7      F            collie       loving       1\n",
       "7   8       Snowy    8      F       fox terrier  adventurous       0\n",
       "8   9        None    4      M  golden retriever      playful       1"
      ]
     },
     "execution_count": 1,
     "metadata": {},
     "output_type": "execute_result"
    }
   ],
   "source": [
    "# Your code here; imports, create a connection, select all\n",
    "import pandas as pd\n",
    "import sqlite3\n",
    "conn = sqlite3.connect ('dogs.db')\n",
    "pd.read_sql(\" SELECT * FROM dogs;\" ,conn)"
   ]
  },
  {
   "cell_type": "markdown",
   "metadata": {},
   "source": [
    " "
   ]
  },
  {
   "cell_type": "markdown",
   "metadata": {},
   "source": [
    "## Queries\n",
    "\n",
    "Display the outputs for each of the following query descriptions."
   ]
  },
  {
   "cell_type": "markdown",
   "metadata": {},
   "source": [
    "### Select the name and breed for all female dogs\n",
    "\n",
    "<details>\n",
    "    <summary style=\"cursor: pointer; display: inline\"><h4>Click for hint:</h4></summary>\n",
    "    <p>Use <code>WHERE</code> with the <code>=</code> operator</p>\n",
    "</details>"
   ]
  },
  {
   "cell_type": "code",
   "execution_count": 5,
   "metadata": {},
   "outputs": [
    {
     "name": "stdout",
     "output_type": "stream",
     "text": [
      "('Little Ann', 'coonhound')\n",
      "('Pickles', 'black lab')\n",
      "('Lassie', 'collie')\n",
      "('Snowy', 'fox terrier')\n"
     ]
    }
   ],
   "source": [
    "import sqlite3\n",
    "\n",
    "# Connect to your database\n",
    "conn = sqlite3.connect('dogs.db')\n",
    "cursor = conn.cursor()\n",
    "\n",
    "# SQL query\n",
    "query = \"SELECT name, breed FROM dogs WHERE gender = 'F';\"\n",
    "\n",
    "# Execute the query\n",
    "cursor.execute(query)\n",
    "\n",
    "# Fetch and print results\n",
    "female_dogs = cursor.fetchall()\n",
    "for dog in female_dogs:\n",
    "    print(dog)\n",
    "\n",
    "# Close the connection\n",
    "conn.close()\n",
    "\n"
   ]
  },
  {
   "cell_type": "markdown",
   "metadata": {},
   "source": [
    "### Select the number of dogs that do not have a name\n",
    "\n",
    "<details>\n",
    "    <summary style=\"cursor: pointer; display: inline\"><h4>Click for hint:</h4></summary>\n",
    "    <p>Use <code>COUNT</code> and <code>IS NULL</code></p>\n",
    "</details>"
   ]
  },
  {
   "cell_type": "code",
   "execution_count": 8,
   "metadata": {},
   "outputs": [
    {
     "name": "stdout",
     "output_type": "stream",
     "text": [
      "Number of dogs without a name: 1\n"
     ]
    }
   ],
   "source": [
    "import sqlite3\n",
    "\n",
    "# Connect to your database\n",
    "conn = sqlite3.connect('dogs.db')  # Replace with your actual database file\n",
    "cursor = conn.cursor()\n",
    "\n",
    "# SQL query to count dogs without a name\n",
    "query = \"SELECT COUNT(*) FROM dogs WHERE name IS NULL;\"\n",
    "\n",
    "# Execute the query\n",
    "cursor.execute(query)\n",
    "\n",
    "# Fetch the result\n",
    "count = cursor.fetchone()[0]\n",
    "print(f\"Number of dogs without a name: {count}\")\n",
    "\n",
    "# Close the connection\n",
    "conn.close()\n",
    "\n"
   ]
  },
  {
   "cell_type": "markdown",
   "metadata": {},
   "source": [
    "### Select the names of all dogs that contain the double letters `ff` or `oo`\n",
    "\n",
    "<details>\n",
    "    <summary style=\"cursor: pointer; display: inline\"><h4>Click for hint:</h4></summary>\n",
    "    <p>Use <code>LIKE</code>, <code>%</code>, and <code>OR</code></p>\n",
    "</details>"
   ]
  },
  {
   "cell_type": "code",
   "execution_count": 10,
   "metadata": {},
   "outputs": [
    {
     "name": "stdout",
     "output_type": "stream",
     "text": [
      "Snoopy\n",
      "McGruff\n",
      "Scooby\n",
      "Clifford\n"
     ]
    }
   ],
   "source": [
    "import sqlite3\n",
    "\n",
    "# Connect to your database\n",
    "conn = sqlite3.connect('dogs.db')  # Replace with your actual database file\n",
    "cursor = conn.cursor()\n",
    "\n",
    "# SQL query to select names with double letters 'ff' or 'oo'\n",
    "query = \"SELECT name FROM dogs WHERE name LIKE '%ff%' OR name LIKE '%oo%';\"\n",
    "\n",
    "# Execute the query\n",
    "cursor.execute(query)\n",
    "\n",
    "# Fetch the results\n",
    "names_with_double_letters = cursor.fetchall()\n",
    "\n",
    "# Print each name\n",
    "for name in names_with_double_letters:\n",
    "    print(name[0])  # Printing the name of each dog\n",
    "\n",
    "# Close the connection\n",
    "conn.close()\n",
    "\n"
   ]
  },
  {
   "cell_type": "markdown",
   "metadata": {},
   "source": [
    "### Select the names of all dogs listed in alphabetical order.  Notice that SQL lists the nameless dog first.\n",
    "\n",
    "<details>\n",
    "    <summary style=\"cursor: pointer; display: inline\"><h4>Click for hint:</h4></summary>\n",
    "    <p>Use <code>ORDER BY</code></p>\n",
    "</details>"
   ]
  },
  {
   "cell_type": "code",
   "execution_count": 12,
   "metadata": {},
   "outputs": [
    {
     "name": "stdout",
     "output_type": "stream",
     "text": [
      "None\n",
      "Clifford\n",
      "Lassie\n",
      "Little Ann\n",
      "McGruff\n",
      "Pickles\n",
      "Scooby\n",
      "Snoopy\n",
      "Snowy\n"
     ]
    }
   ],
   "source": [
    "import sqlite3\n",
    "\n",
    "# Connect to your database\n",
    "conn = sqlite3.connect('dogs.db')  # Replace with your actual database file\n",
    "cursor = conn.cursor()\n",
    "\n",
    "# SQL query to select names in alphabetical order\n",
    "query = \"SELECT name FROM dogs ORDER BY name;\"\n",
    "\n",
    "# Execute the query\n",
    "cursor.execute(query)\n",
    "\n",
    "# Fetch the results\n",
    "sorted_dog_names = cursor.fetchall()\n",
    "\n",
    "# Print each name\n",
    "for name in sorted_dog_names:\n",
    "    print(name[0])  # Printing the name of each dog\n",
    "\n",
    "# Close the connection\n",
    "conn.close()\n"
   ]
  },
  {
   "cell_type": "markdown",
   "metadata": {},
   "source": [
    "### Select the name and breed of only the hungry dogs and list them from youngest to oldest"
   ]
  },
  {
   "cell_type": "code",
   "execution_count": 14,
   "metadata": {},
   "outputs": [
    {
     "name": "stdout",
     "output_type": "stream",
     "text": [
      "Name: Snoopy, Breed: beagle\n",
      "Name: Clifford, Breed: big red\n",
      "Name: None, Breed: golden retriever\n",
      "Name: Scooby, Breed: great dane\n",
      "Name: Lassie, Breed: collie\n",
      "Name: Pickles, Breed: black lab\n"
     ]
    }
   ],
   "source": [
    "import sqlite3\n",
    "\n",
    "# Connect to your database\n",
    "conn = sqlite3.connect('dogs.db')  # Replace with your actual database file\n",
    "cursor = conn.cursor()\n",
    "\n",
    "# SQL query to select name and breed of hungry dogs ordered by age\n",
    "query = \"\"\"\n",
    "SELECT name, breed\n",
    "FROM dogs\n",
    "WHERE hungry = 1\n",
    "ORDER BY age;\n",
    "\"\"\"\n",
    "\n",
    "# Execute the query\n",
    "cursor.execute(query)\n",
    "\n",
    "# Fetch the results\n",
    "hungry_dogs = cursor.fetchall()\n",
    "\n",
    "# Print each name and breed\n",
    "for dog in hungry_dogs:\n",
    "    print(f\"Name: {dog[0]}, Breed: {dog[1]}\")  # Print name and breed of each hungry dog\n",
    "\n",
    "# Close the connection\n",
    "conn.close()\n",
    "\n"
   ]
  },
  {
   "cell_type": "markdown",
   "metadata": {},
   "source": [
    "### Select the oldest dog's name, age, and temperament\n",
    "\n",
    "<details>\n",
    "    <summary style=\"cursor: pointer; display: inline\"><h4>Click for hint:</h4></summary>\n",
    "    <p>Use <code>ORDER BY</code> with <code>LIMIT</code></p>\n",
    "</details>"
   ]
  },
  {
   "cell_type": "code",
   "execution_count": 15,
   "metadata": {},
   "outputs": [
    {
     "name": "stdout",
     "output_type": "stream",
     "text": [
      "Oldest Dog: Name: Pickles, Age: 13, Temperament: mischievous\n"
     ]
    }
   ],
   "source": [
    "import sqlite3\n",
    "\n",
    "# Connect to your database\n",
    "conn = sqlite3.connect('dogs.db')  # Replace with your actual database file\n",
    "cursor = conn.cursor()\n",
    "\n",
    "# SQL query to select the oldest dog's name, age, and temperament\n",
    "query = \"\"\"\n",
    "SELECT name, age, temperament\n",
    "FROM dogs\n",
    "ORDER BY age DESC\n",
    "LIMIT 1;\n",
    "\"\"\"\n",
    "\n",
    "# Execute the query\n",
    "cursor.execute(query)\n",
    "\n",
    "# Fetch the result\n",
    "oldest_dog = cursor.fetchone()\n",
    "\n",
    "# Print the details of the oldest dog\n",
    "if oldest_dog:\n",
    "    print(f\"Oldest Dog: Name: {oldest_dog[0]}, Age: {oldest_dog[1]}, Temperament: {oldest_dog[2]}\")\n",
    "\n",
    "# Close the connection\n",
    "conn.close()\n"
   ]
  },
  {
   "cell_type": "markdown",
   "metadata": {},
   "source": [
    "### Select the name and age of the three youngest dogs"
   ]
  },
  {
   "cell_type": "code",
   "execution_count": 16,
   "metadata": {},
   "outputs": [
    {
     "name": "stdout",
     "output_type": "stream",
     "text": [
      "Name: Snoopy, Age: 3\n",
      "Name: Clifford, Age: 4\n",
      "Name: None, Age: 4\n"
     ]
    }
   ],
   "source": [
    "import sqlite3\n",
    "\n",
    "# Connect to your database\n",
    "conn = sqlite3.connect('dogs.db')  # Replace with your actual database file\n",
    "cursor = conn.cursor()\n",
    "\n",
    "# SQL query to select the three youngest dogs' name and age\n",
    "query = \"\"\"\n",
    "SELECT name, age\n",
    "FROM dogs\n",
    "ORDER BY age\n",
    "LIMIT 3;\n",
    "\"\"\"\n",
    "\n",
    "# Execute the query\n",
    "cursor.execute(query)\n",
    "\n",
    "# Fetch the results\n",
    "youngest_dogs = cursor.fetchall()\n",
    "\n",
    "# Print the details of the three youngest dogs\n",
    "for dog in youngest_dogs:\n",
    "    print(f\"Name: {dog[0]}, Age: {dog[1]}\")  # Print name and age of each dog\n",
    "\n",
    "# Close the connection\n",
    "conn.close()\n"
   ]
  },
  {
   "cell_type": "markdown",
   "metadata": {},
   "source": [
    "### Select the name and breed of the dogs who are between five and ten years old, ordered from oldest to youngest\n",
    "\n",
    "<details>\n",
    "    <summary style=\"cursor: pointer; display: inline\"><h4>Click for hint:</h4></summary>\n",
    "    <p>Use <code>WHERE</code> with <code>BETWEEN</code></p>\n",
    "</details>"
   ]
  },
  {
   "cell_type": "code",
   "execution_count": 17,
   "metadata": {},
   "outputs": [
    {
     "name": "stdout",
     "output_type": "stream",
     "text": [
      "Name: McGruff, Breed: bloodhound\n",
      "Name: Snowy, Breed: fox terrier\n",
      "Name: Lassie, Breed: collie\n",
      "Name: Scooby, Breed: great dane\n",
      "Name: Little Ann, Breed: coonhound\n"
     ]
    }
   ],
   "source": [
    "import sqlite3\n",
    "\n",
    "# Connect to your database\n",
    "conn = sqlite3.connect('dogs.db')  # Replace with your actual database file\n",
    "cursor = conn.cursor()\n",
    "\n",
    "# SQL query to select the name and breed of dogs between 5 and 10 years old, ordered from oldest to youngest\n",
    "query = \"\"\"\n",
    "SELECT name, breed\n",
    "FROM dogs\n",
    "WHERE age BETWEEN 5 AND 10\n",
    "ORDER BY age DESC;\n",
    "\"\"\"\n",
    "\n",
    "# Execute the query\n",
    "cursor.execute(query)\n",
    "\n",
    "# Fetch the results\n",
    "dogs_between_5_and_10 = cursor.fetchall()\n",
    "\n",
    "# Print the details of the dogs\n",
    "for dog in dogs_between_5_and_10:\n",
    "    print(f\"Name: {dog[0]}, Breed: {dog[1]}\")  # Print name and breed of each dog\n",
    "\n",
    "# Close the connection\n",
    "conn.close()\n"
   ]
  },
  {
   "cell_type": "markdown",
   "metadata": {},
   "source": [
    "### Select the name, age, and hungry columns for hungry dogs between the ages of two and seven.  This query should also list these dogs in alphabetical order."
   ]
  },
  {
   "cell_type": "code",
   "execution_count": 18,
   "metadata": {},
   "outputs": [
    {
     "name": "stdout",
     "output_type": "stream",
     "text": [
      "Name: None, Age: 4, Hungry: 1\n",
      "Name: Clifford, Age: 4, Hungry: 1\n",
      "Name: Lassie, Age: 7, Hungry: 1\n",
      "Name: Scooby, Age: 6, Hungry: 1\n",
      "Name: Snoopy, Age: 3, Hungry: 1\n"
     ]
    }
   ],
   "source": [
    "import sqlite3\n",
    "\n",
    "# Connect to your database\n",
    "conn = sqlite3.connect('dogs.db')  # Replace with your actual database file\n",
    "cursor = conn.cursor()\n",
    "\n",
    "# SQL query to select the name, age, and hungry columns for hungry dogs between ages 2 and 7\n",
    "query = \"\"\"\n",
    "SELECT name, age, hungry\n",
    "FROM dogs\n",
    "WHERE hungry = 1 AND age BETWEEN 2 AND 7\n",
    "ORDER BY name;\n",
    "\"\"\"\n",
    "\n",
    "# Execute the query\n",
    "cursor.execute(query)\n",
    "\n",
    "# Fetch the results\n",
    "hungry_dogs_ages_2_to_7 = cursor.fetchall()\n",
    "\n",
    "# Print the details of the hungry dogs\n",
    "for dog in hungry_dogs_ages_2_to_7:\n",
    "    print(f\"Name: {dog[0]}, Age: {dog[1]}, Hungry: {dog[2]}\")  # Print name, age, and hungry status of each dog\n",
    "\n",
    "# Close the connection\n",
    "conn.close()\n"
   ]
  },
  {
   "cell_type": "markdown",
   "metadata": {},
   "source": [
    "## Close the Database Connection"
   ]
  },
  {
   "cell_type": "code",
   "execution_count": null,
   "metadata": {},
   "outputs": [],
   "source": [
    "# Your code here"
   ]
  },
  {
   "cell_type": "markdown",
   "metadata": {},
   "source": [
    "## Summary"
   ]
  },
  {
   "cell_type": "markdown",
   "metadata": {},
   "source": [
    "Great work! In this lab you practiced writing more complex SQL statements to not only query specific information but also define the quantity and order of your results. "
   ]
  }
 ],
 "metadata": {
  "kernelspec": {
   "display_name": "Python 3 (ipykernel)",
   "language": "python",
   "name": "python3"
  },
  "language_info": {
   "codemirror_mode": {
    "name": "ipython",
    "version": 3
   },
   "file_extension": ".py",
   "mimetype": "text/x-python",
   "name": "python",
   "nbconvert_exporter": "python",
   "pygments_lexer": "ipython3",
   "version": "3.11.7"
  },
  "toc": {
   "base_numbering": 1,
   "nav_menu": {},
   "number_sections": true,
   "sideBar": true,
   "skip_h1_title": false,
   "title_cell": "Table of Contents",
   "title_sidebar": "Contents",
   "toc_cell": false,
   "toc_position": {},
   "toc_section_display": true,
   "toc_window_display": false
  }
 },
 "nbformat": 4,
 "nbformat_minor": 4
}
